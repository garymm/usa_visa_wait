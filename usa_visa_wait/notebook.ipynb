{
 "cells": [
  {
   "cell_type": "code",
   "execution_count": 7,
   "metadata": {},
   "outputs": [],
   "source": [
    "import os\n",
    "import urllib.request\n",
    "import time\n",
    "\n",
    "import pandas as pd\n",
    "from bs4 import BeautifulSoup\n",
    "import requests\n",
    "from geopy.distance import geodesic\n",
    "from geopy.geocoders import ArcGIS\n",
    "\n",
    "URL = \"https://travel.state.gov/content/travel/en/us-visas/visa-information-resources/global-visa-wait-times.html\""
   ]
  },
  {
   "cell_type": "code",
   "execution_count": 8,
   "metadata": {},
   "outputs": [],
   "source": [
    "data_dir = os.path.join(os.getcwd(), \"data\")\n",
    "if not os.path.exists(data_dir):\n",
    "    os.makedirs(data_dir)\n",
    "html_path = os.path.join(data_dir, os.path.basename(URL))\n",
    "if not os.path.exists(html_path):\n",
    "    urllib.request.urlretrieve(URL, html_path)\n",
    "\n",
    "csv_path = os.path.join(data_dir, \"visa_wait_times.csv\")"
   ]
  },
  {
   "cell_type": "code",
   "execution_count": 9,
   "metadata": {},
   "outputs": [],
   "source": [
    "with open(html_path, \"r\", encoding=\"utf-8\") as f:\n",
    "    soup = BeautifulSoup(f, \"html.parser\")\n",
    "\n",
    "# Parse the table\n",
    "table = soup.find(\"table\")\n",
    "rows = table.find_all(\"tr\")\n",
    "\n",
    "# Extract table headers\n",
    "headers = [header.text.strip() for header in rows[0].find_all(\"th\")]\n",
    "prefix_to_remove = \"Interview Required\\n\"\n",
    "for i, h in enumerate(headers):\n",
    "    if h.startswith(prefix_to_remove):\n",
    "        headers[i] = h[len(prefix_to_remove):]\n"
   ]
  },
  {
   "cell_type": "code",
   "execution_count": 10,
   "metadata": {},
   "outputs": [
    {
     "data": {
      "text/plain": [
       "['City/Post',\n",
       " 'Student/Exchange Visitors (F, M, J)',\n",
       " 'Petition-Based Temporary Workers (H, L, O, P, Q)',\n",
       " 'Crew and Transit\\xa0(C, D, C1/D)',\n",
       " 'Visitors (B1/B2)']"
      ]
     },
     "execution_count": 10,
     "metadata": {},
     "output_type": "execute_result"
    }
   ],
   "source": [
    "headers"
   ]
  },
  {
   "cell_type": "code",
   "execution_count": 11,
   "metadata": {},
   "outputs": [],
   "source": [
    "data = []\n",
    "for row in rows[1:]:\n",
    "    cols = row.find_all(\"td\")\n",
    "    cols = [col.text.strip() for col in cols]\n",
    "    data.append(cols)\n",
    "\n",
    "# Create DataFrame\n",
    "df = pd.DataFrame(data, columns=headers)\n",
    "\n",
    "# Clean city names\n",
    "df[\"City/Post\"] = df[\"City/Post\"].str.split(\"(\").str[0].str.strip()\n",
    "days_re = r'^(\\d+) Days?$'\n",
    "df = df[df['Visitors (B1/B2)'].str.match(days_re)]\n",
    "for col in df.columns[1:]:\n",
    "    df[col] = df[col].replace(days_re, r'\\1', regex=True)\n",
    "    # replace empty values with inf\n",
    "    df[col] = df[col].replace(\"\", float(\"inf\"))\n",
    "    df[col] = df[col].replace(\"Same Day\", 0.)\n",
    "    df[col] = df[col].astype(float)"
   ]
  },
  {
   "cell_type": "code",
   "execution_count": 12,
   "metadata": {},
   "outputs": [
    {
     "data": {
      "text/plain": [
       "205"
      ]
     },
     "execution_count": 12,
     "metadata": {},
     "output_type": "execute_result"
    }
   ],
   "source": [
    "len(df)"
   ]
  },
  {
   "cell_type": "code",
   "execution_count": 13,
   "metadata": {},
   "outputs": [
    {
     "data": {
      "text/html": [
       "<div>\n",
       "<style scoped>\n",
       "    .dataframe tbody tr th:only-of-type {\n",
       "        vertical-align: middle;\n",
       "    }\n",
       "\n",
       "    .dataframe tbody tr th {\n",
       "        vertical-align: top;\n",
       "    }\n",
       "\n",
       "    .dataframe thead th {\n",
       "        text-align: right;\n",
       "    }\n",
       "</style>\n",
       "<table border=\"1\" class=\"dataframe\">\n",
       "  <thead>\n",
       "    <tr style=\"text-align: right;\">\n",
       "      <th></th>\n",
       "      <th>City/Post</th>\n",
       "      <th>Student/Exchange Visitors (F, M, J)</th>\n",
       "      <th>Petition-Based Temporary Workers (H, L, O, P, Q)</th>\n",
       "      <th>Crew and Transit (C, D, C1/D)</th>\n",
       "      <th>Visitors (B1/B2)</th>\n",
       "    </tr>\n",
       "  </thead>\n",
       "  <tbody>\n",
       "    <tr>\n",
       "      <th>0</th>\n",
       "      <td>Abidjan</td>\n",
       "      <td>78.0</td>\n",
       "      <td>1.0</td>\n",
       "      <td>2.0</td>\n",
       "      <td>266.0</td>\n",
       "    </tr>\n",
       "    <tr>\n",
       "      <th>1</th>\n",
       "      <td>Abu Dhabi</td>\n",
       "      <td>35.0</td>\n",
       "      <td>43.0</td>\n",
       "      <td>inf</td>\n",
       "      <td>416.0</td>\n",
       "    </tr>\n",
       "    <tr>\n",
       "      <th>2</th>\n",
       "      <td>Abuja</td>\n",
       "      <td>190.0</td>\n",
       "      <td>28.0</td>\n",
       "      <td>521.0</td>\n",
       "      <td>521.0</td>\n",
       "    </tr>\n",
       "    <tr>\n",
       "      <th>3</th>\n",
       "      <td>Accra</td>\n",
       "      <td>390.0</td>\n",
       "      <td>75.0</td>\n",
       "      <td>117.0</td>\n",
       "      <td>440.0</td>\n",
       "    </tr>\n",
       "    <tr>\n",
       "      <th>5</th>\n",
       "      <td>Addis Ababa</td>\n",
       "      <td>93.0</td>\n",
       "      <td>156.0</td>\n",
       "      <td>54.0</td>\n",
       "      <td>156.0</td>\n",
       "    </tr>\n",
       "  </tbody>\n",
       "</table>\n",
       "</div>"
      ],
      "text/plain": [
       "     City/Post  Student/Exchange Visitors (F, M, J)  \\\n",
       "0      Abidjan                                 78.0   \n",
       "1    Abu Dhabi                                 35.0   \n",
       "2        Abuja                                190.0   \n",
       "3        Accra                                390.0   \n",
       "5  Addis Ababa                                 93.0   \n",
       "\n",
       "   Petition-Based Temporary Workers (H, L, O, P, Q)  \\\n",
       "0                                               1.0   \n",
       "1                                              43.0   \n",
       "2                                              28.0   \n",
       "3                                              75.0   \n",
       "5                                             156.0   \n",
       "\n",
       "   Crew and Transit (C, D, C1/D)  Visitors (B1/B2)  \n",
       "0                            2.0             266.0  \n",
       "1                            inf             416.0  \n",
       "2                          521.0             521.0  \n",
       "3                          117.0             440.0  \n",
       "5                           54.0             156.0  "
      ]
     },
     "execution_count": 13,
     "metadata": {},
     "output_type": "execute_result"
    }
   ],
   "source": [
    "df.head()"
   ]
  },
  {
   "cell_type": "code",
   "execution_count": 14,
   "metadata": {},
   "outputs": [],
   "source": [
    "# Get coordinates for each city\n",
    "geolocator = ArcGIS()\n",
    "def get_coordinates(city):\n",
    "    try:\n",
    "        location = geolocator.geocode(city)\n",
    "        time.sleep(1)\n",
    "        return location.latitude, location.longitude\n",
    "    except:\n",
    "        return None, None\n",
    "\n",
    "df[['Latitude', 'Longitude']] = df['City/Post'].apply(lambda x: pd.Series(get_coordinates(x)))\n"
   ]
  },
  {
   "cell_type": "code",
   "execution_count": null,
   "metadata": {},
   "outputs": [],
   "source": [
    "df.head()"
   ]
  }
 ],
 "metadata": {
  "kernelspec": {
   "display_name": ".venv",
   "language": "python",
   "name": "python3"
  },
  "language_info": {
   "codemirror_mode": {
    "name": "ipython",
    "version": 3
   },
   "file_extension": ".py",
   "mimetype": "text/x-python",
   "name": "python",
   "nbconvert_exporter": "python",
   "pygments_lexer": "ipython3",
   "version": "3.12.4"
  }
 },
 "nbformat": 4,
 "nbformat_minor": 2
}
